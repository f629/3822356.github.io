{
  "nbformat": 4,
  "nbformat_minor": 0,
  "metadata": {
    "colab": {
      "private_outputs": true,
      "provenance": [],
      "authorship_tag": "ABX9TyPsGb5qpeLZhDDouhMOezmy",
      "include_colab_link": true
    },
    "kernelspec": {
      "name": "python3",
      "display_name": "Python 3"
    },
    "language_info": {
      "name": "python"
    }
  },
  "cells": [
    {
      "cell_type": "markdown",
      "metadata": {
        "id": "view-in-github",
        "colab_type": "text"
      },
      "source": [
        "<a href=\"https://colab.research.google.com/github/f629/3822356.github.io/blob/main/ex_12_7.ipynb\" target=\"_parent\"><img src=\"https://colab.research.google.com/assets/colab-badge.svg\" alt=\"Open In Colab\"/></a>"
      ]
    },
    {
      "cell_type": "code",
      "execution_count": null,
      "metadata": {
        "id": "8pT2sP1f61Ca"
      },
      "outputs": [],
      "source": [
        "%matplotlib inline\n",
        "import numpy as np\n",
        "import matplotlib.pyplot as plt\n",
        "import pandas as pd"
      ]
    },
    {
      "cell_type": "code",
      "source": [
        "import numpy as np\n",
        "img=np.random.randint(10,99,size=[5,5],dtype=np.uint8)\n",
        "print(\"img=\\n\",img)\n",
        "print(\"讀取像素點 img.item(3,2)=\",img.item(3,2))\n",
        "img.itemset((3,2),255)#修改(3,2)像素值為255\n",
        "print(\"修改後img=\\n\",img)\n",
        "print(\"修改後像素點 img.item(3,2)=\",img.item(3,2))"
      ],
      "metadata": {
        "id": "0diuWIdV_D0N"
      },
      "execution_count": null,
      "outputs": []
    }
  ]
}