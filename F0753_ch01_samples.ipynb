{
  "cells": [
    {
      "cell_type": "markdown",
      "metadata": {
        "id": "view-in-github",
        "colab_type": "text"
      },
      "source": [
        "<a href=\"https://colab.research.google.com/github/f629/3822356.github.io/blob/main/F0753_ch01_samples.ipynb\" target=\"_parent\"><img src=\"https://colab.research.google.com/assets/colab-badge.svg\" alt=\"Open In Colab\"/></a>"
      ]
    },
    {
      "cell_type": "markdown",
      "metadata": {
        "id": "W0ejiEbAwdLY"
      },
      "source": [
        "# F0753 範例程式 - 第 1 章 運算式、變數與資料型別"
      ]
    },
    {
      "cell_type": "code",
      "source": [
        "from google.colab import drive\n",
        "drive.mount('/content/drive')"
      ],
      "metadata": {
        "colab": {
          "base_uri": "https://localhost:8080/"
        },
        "id": "GKJfJHUcwoln",
        "outputId": "e404b912-6003-491f-c99e-d1efc0ffe038"
      },
      "execution_count": 14,
      "outputs": [
        {
          "output_type": "stream",
          "name": "stdout",
          "text": [
            "Drive already mounted at /content/drive; to attempt to forcibly remount, call drive.mount(\"/content/drive\", force_remount=True).\n"
          ]
        }
      ]
    },
    {
      "cell_type": "markdown",
      "metadata": {
        "id": "O0G0qyMOwdLi"
      },
      "source": [
        "## 1-0 運算式：可算出值的式子"
      ]
    },
    {
      "cell_type": "markdown",
      "metadata": {
        "id": "auIsS0SjwdLk"
      },
      "source": [
        "### *算術算符：加減乘除 ＋、－、＊、/、//*"
      ]
    },
    {
      "cell_type": "code",
      "execution_count": 15,
      "metadata": {
        "colab": {
          "base_uri": "https://localhost:8080/"
        },
        "id": "lrB4A1FIwdLl",
        "outputId": "07821a26-d66d-4504-a727-00ce3d8c2815"
      },
      "outputs": [
        {
          "output_type": "execute_result",
          "data": {
            "text/plain": [
              "17"
            ]
          },
          "metadata": {},
          "execution_count": 15
        }
      ],
      "source": [
        "8 + 9"
      ]
    },
    {
      "cell_type": "code",
      "execution_count": 16,
      "metadata": {
        "colab": {
          "base_uri": "https://localhost:8080/"
        },
        "id": "0pnpjNNIwdLo",
        "outputId": "93b708ef-5350-4978-f85d-a9203a33f80e"
      },
      "outputs": [
        {
          "output_type": "execute_result",
          "data": {
            "text/plain": [
              "34"
            ]
          },
          "metadata": {},
          "execution_count": 16
        }
      ],
      "source": [
        "8 + 9 + 17"
      ]
    },
    {
      "cell_type": "code",
      "execution_count": 17,
      "metadata": {
        "colab": {
          "base_uri": "https://localhost:8080/"
        },
        "id": "EfqQHaXPwdLp",
        "outputId": "2e6e6f72-3cfa-4317-bf95-18b61e10625a"
      },
      "outputs": [
        {
          "output_type": "execute_result",
          "data": {
            "text/plain": [
              "-4"
            ]
          },
          "metadata": {},
          "execution_count": 17
        }
      ],
      "source": [
        "7 - 11"
      ]
    },
    {
      "cell_type": "code",
      "execution_count": 18,
      "metadata": {
        "colab": {
          "base_uri": "https://localhost:8080/"
        },
        "id": "RSj5nZUQwdLq",
        "outputId": "6817d5fd-7011-47d0-a1cf-9fe4ba5f7157"
      },
      "outputs": [
        {
          "output_type": "execute_result",
          "data": {
            "text/plain": [
              "42"
            ]
          },
          "metadata": {},
          "execution_count": 18
        }
      ],
      "source": [
        "6 * 7"
      ]
    },
    {
      "cell_type": "code",
      "execution_count": 19,
      "metadata": {
        "colab": {
          "base_uri": "https://localhost:8080/"
        },
        "id": "uyB2Xd8bwdLr",
        "outputId": "b94b043f-4443-4931-ef79-e44de8d414fd"
      },
      "outputs": [
        {
          "output_type": "execute_result",
          "data": {
            "text/plain": [
              "3.3333333333333335"
            ]
          },
          "metadata": {},
          "execution_count": 19
        }
      ],
      "source": [
        "10 / 3"
      ]
    },
    {
      "cell_type": "code",
      "execution_count": 20,
      "metadata": {
        "colab": {
          "base_uri": "https://localhost:8080/"
        },
        "id": "4mNlEi7QwdLr",
        "outputId": "a91ae077-0029-4c6b-81f7-081bcd02e373"
      },
      "outputs": [
        {
          "output_type": "execute_result",
          "data": {
            "text/plain": [
              "3"
            ]
          },
          "metadata": {},
          "execution_count": 20
        }
      ],
      "source": [
        "10 // 3"
      ]
    },
    {
      "cell_type": "markdown",
      "metadata": {
        "id": "YnOXS1Z2wdLt"
      },
      "source": [
        "### *餘數算符 %*"
      ]
    },
    {
      "cell_type": "code",
      "execution_count": 21,
      "metadata": {
        "colab": {
          "base_uri": "https://localhost:8080/"
        },
        "id": "Khx5G2dqwdLu",
        "outputId": "c3db2237-1617-4dde-c134-ef4b4d505b3a"
      },
      "outputs": [
        {
          "output_type": "execute_result",
          "data": {
            "text/plain": [
              "1"
            ]
          },
          "metadata": {},
          "execution_count": 21
        }
      ],
      "source": [
        "10 % 3"
      ]
    },
    {
      "cell_type": "markdown",
      "metadata": {
        "id": "CwaSECxhwdLv"
      },
      "source": [
        "### *次方算符  ***"
      ]
    },
    {
      "cell_type": "code",
      "execution_count": 22,
      "metadata": {
        "colab": {
          "base_uri": "https://localhost:8080/"
        },
        "id": "N693UKl5wdLv",
        "outputId": "d5dfaa62-a1d7-444d-e5cf-ddcc96901aa9"
      },
      "outputs": [
        {
          "output_type": "execute_result",
          "data": {
            "text/plain": [
              "8"
            ]
          },
          "metadata": {},
          "execution_count": 22
        }
      ],
      "source": [
        "2 ** 3"
      ]
    },
    {
      "cell_type": "code",
      "execution_count": 23,
      "metadata": {
        "colab": {
          "base_uri": "https://localhost:8080/"
        },
        "id": "vIKSeO5owdLx",
        "outputId": "9014d26d-4454-4438-a33a-31dd3536b611"
      },
      "outputs": [
        {
          "output_type": "execute_result",
          "data": {
            "text/plain": [
              "10000"
            ]
          },
          "metadata": {},
          "execution_count": 23
        }
      ],
      "source": [
        "10 ** 4"
      ]
    },
    {
      "cell_type": "markdown",
      "metadata": {
        "id": "g0vhssmcwdLy"
      },
      "source": [
        "### *算符的優先順序：先乘除後加減*"
      ]
    },
    {
      "cell_type": "code",
      "execution_count": 24,
      "metadata": {
        "colab": {
          "base_uri": "https://localhost:8080/"
        },
        "id": "zCeOOYTVwdLz",
        "outputId": "0c6e8565-f2cf-495e-d055-331e79523fa4"
      },
      "outputs": [
        {
          "output_type": "execute_result",
          "data": {
            "text/plain": [
              "5.0"
            ]
          },
          "metadata": {},
          "execution_count": 24
        }
      ],
      "source": [
        "6 / 2 + 1 * 2"
      ]
    },
    {
      "cell_type": "code",
      "execution_count": 25,
      "metadata": {
        "colab": {
          "base_uri": "https://localhost:8080/"
        },
        "id": "Fr_inaHQwdL0",
        "outputId": "2a444833-b767-476e-9a89-3257d528f587"
      },
      "outputs": [
        {
          "output_type": "execute_result",
          "data": {
            "text/plain": [
              "4.0"
            ]
          },
          "metadata": {},
          "execution_count": 25
        }
      ],
      "source": [
        "6 / (2 + 1) * 2"
      ]
    },
    {
      "cell_type": "markdown",
      "metadata": {
        "id": "xRiT43cmwdL1"
      },
      "source": [
        "## 1-1 Python 的基礎資料型別 type"
      ]
    },
    {
      "cell_type": "markdown",
      "metadata": {
        "id": "TA08ZpeqwdL1"
      },
      "source": [
        "### *整數、浮點數與字串*"
      ]
    },
    {
      "cell_type": "code",
      "execution_count": 26,
      "metadata": {
        "colab": {
          "base_uri": "https://localhost:8080/"
        },
        "id": "Qn8OabH3wdL2",
        "outputId": "b7478c19-f109-4be7-9466-dae06cc3b0f5"
      },
      "outputs": [
        {
          "output_type": "stream",
          "name": "stdout",
          "text": [
            "5.0\n",
            "5\n"
          ]
        }
      ],
      "source": [
        "print(10 / 2)\n",
        "print(10 // 2)"
      ]
    },
    {
      "cell_type": "code",
      "execution_count": 27,
      "metadata": {
        "colab": {
          "base_uri": "https://localhost:8080/"
        },
        "id": "tfbu362nwdL3",
        "outputId": "9a3ce170-4b35-44ea-a7da-08e01280b495"
      },
      "outputs": [
        {
          "output_type": "stream",
          "name": "stdout",
          "text": [
            "Object `是在哈囉` not found.\n"
          ]
        }
      ],
      "source": [
        "# 錯誤範例, 執行後會產生錯誤訊息\n",
        "\n",
        "是在哈囉?"
      ]
    },
    {
      "cell_type": "code",
      "execution_count": 28,
      "metadata": {
        "colab": {
          "base_uri": "https://localhost:8080/",
          "height": 36
        },
        "id": "jWOPzXdhwdL4",
        "outputId": "160f813b-89c9-45f3-cec2-ef39bc003f43"
      },
      "outputs": [
        {
          "output_type": "execute_result",
          "data": {
            "text/plain": [
              "'是在哈囉?'"
            ],
            "application/vnd.google.colaboratory.intrinsic+json": {
              "type": "string"
            }
          },
          "metadata": {},
          "execution_count": 28
        }
      ],
      "source": [
        "\"是在哈囉?\""
      ]
    },
    {
      "cell_type": "markdown",
      "metadata": {
        "id": "S0ryP2O2wdL4"
      },
      "source": [
        "### *跨型別的運算*"
      ]
    },
    {
      "cell_type": "code",
      "execution_count": 29,
      "metadata": {
        "colab": {
          "base_uri": "https://localhost:8080/",
          "height": 181
        },
        "id": "lGMf7g43wdL5",
        "outputId": "e4f9b504-5da6-4b32-b31c-fa05357dc396"
      },
      "outputs": [
        {
          "output_type": "error",
          "ename": "TypeError",
          "evalue": "ignored",
          "traceback": [
            "\u001b[0;31m---------------------------------------------------------------------------\u001b[0m",
            "\u001b[0;31mTypeError\u001b[0m                                 Traceback (most recent call last)",
            "\u001b[0;32m<ipython-input-29-cc892b1f57d5>\u001b[0m in \u001b[0;36m<cell line: 1>\u001b[0;34m()\u001b[0m\n\u001b[0;32m----> 1\u001b[0;31m \u001b[0;34m'1'\u001b[0m \u001b[0;34m+\u001b[0m \u001b[0;36m1\u001b[0m\u001b[0;34m\u001b[0m\u001b[0;34m\u001b[0m\u001b[0m\n\u001b[0m",
            "\u001b[0;31mTypeError\u001b[0m: can only concatenate str (not \"int\") to str"
          ]
        }
      ],
      "source": [
        "'1' + 1"
      ]
    },
    {
      "cell_type": "code",
      "execution_count": null,
      "metadata": {
        "id": "1pXNiV2VwdL5"
      },
      "outputs": [],
      "source": [
        "'1' + '1'"
      ]
    },
    {
      "cell_type": "code",
      "execution_count": null,
      "metadata": {
        "id": "DyNxX-LqwdL6"
      },
      "outputs": [],
      "source": [
        "'？' * 10000"
      ]
    },
    {
      "cell_type": "code",
      "execution_count": null,
      "metadata": {
        "id": "F1EXwIh2wdL6"
      },
      "outputs": [],
      "source": [
        "print(2 * 3.0)\n",
        "print(3 / 2)\n",
        "print(3.0 // 2)\n",
        "print(3 // 2)"
      ]
    },
    {
      "cell_type": "markdown",
      "metadata": {
        "id": "ucx_FsUCwdL7"
      },
      "source": [
        "## 1-2 變數：給資料一個名字"
      ]
    },
    {
      "cell_type": "code",
      "execution_count": null,
      "metadata": {
        "id": "Q1v1f06LwdL8"
      },
      "outputs": [],
      "source": [
        "100000 + 35000 - 21000"
      ]
    },
    {
      "cell_type": "code",
      "execution_count": null,
      "metadata": {
        "id": "-ImjtN23wdL8"
      },
      "outputs": [],
      "source": [
        "balance = 100000\n",
        "income = 35000\n",
        "expense = 21000\n",
        "\n",
        "print(balance + income - expense)"
      ]
    },
    {
      "cell_type": "markdown",
      "metadata": {
        "id": "JidkGKjpwdL9"
      },
      "source": [
        "### *建立變數：指派算符 =*"
      ]
    },
    {
      "cell_type": "code",
      "execution_count": null,
      "metadata": {
        "id": "pkXnyiYPwdL-"
      },
      "outputs": [],
      "source": [
        "x = 42\n",
        "y = 'Life, the Universe and Everything'\n",
        "\n",
        "print(x)\n",
        "print(y)"
      ]
    },
    {
      "cell_type": "code",
      "execution_count": null,
      "metadata": {
        "id": "h2Y_qLTBwdL-"
      },
      "outputs": [],
      "source": [
        "z = 78 + 9\n",
        "print(z)"
      ]
    },
    {
      "cell_type": "markdown",
      "metadata": {
        "id": "XVKA2Jg0wdL_"
      },
      "source": [
        "### *就地更改變數的值*"
      ]
    },
    {
      "cell_type": "code",
      "execution_count": null,
      "metadata": {
        "id": "v7r4XaOAwdMA"
      },
      "outputs": [],
      "source": [
        "balance = 100000\n",
        "income = 35000\n",
        "expense = 21000\n",
        "\n",
        "balance = balance + income - expense\n",
        "print(balance)"
      ]
    },
    {
      "cell_type": "markdown",
      "metadata": {
        "id": "ZpebysbZwdMA"
      },
      "source": [
        "## 1-3 變數的型別"
      ]
    },
    {
      "cell_type": "code",
      "execution_count": null,
      "metadata": {
        "id": "0Pak_EoEwdMB"
      },
      "outputs": [],
      "source": [
        "x = 9527\n",
        "y = 2.71828182846\n",
        "z = '五樓最專業'\n",
        "\n",
        "print(type(x))\n",
        "print(type(y))\n",
        "print(type(z))"
      ]
    },
    {
      "cell_type": "code",
      "execution_count": null,
      "metadata": {
        "id": "-WfMeHlJwdMB"
      },
      "outputs": [],
      "source": [
        "x = '那個男人也許會遲到，但永不缺席'\n",
        "print(type(x))"
      ]
    },
    {
      "cell_type": "markdown",
      "metadata": {
        "id": "tZtH5LJawdMC"
      },
      "source": [
        "## 1-4 變數的命名"
      ]
    },
    {
      "cell_type": "code",
      "execution_count": null,
      "metadata": {
        "id": "MdDbp3kgwdMr"
      },
      "outputs": [],
      "source": [
        "_Star_Wars_Episode_9_ = 'trash'\n",
        "蒙地蟒蛇 = 'Monty Python'\n",
        "君の名は = '両津勘吉'"
      ]
    },
    {
      "cell_type": "code",
      "execution_count": null,
      "metadata": {
        "id": "quM-l5Q-wdMs"
      },
      "outputs": [],
      "source": [
        "# 錯誤範例, 執行後會產生錯誤訊息\n",
        "\n",
        "0204_phone = '忙線中'"
      ]
    },
    {
      "cell_type": "code",
      "execution_count": null,
      "metadata": {
        "id": "t4rKRYzhwdMs"
      },
      "outputs": [],
      "source": [
        "# 錯誤範例, 執行後會產生錯誤訊息\n",
        "\n",
        "❤ = 1314520"
      ]
    },
    {
      "cell_type": "code",
      "execution_count": null,
      "metadata": {
        "id": "Qu19gMpXwdMt"
      },
      "outputs": [],
      "source": [
        "# 錯誤範例, 執行後會產生錯誤訊息\n",
        "\n",
        "None = '此地無銀三百兩'"
      ]
    },
    {
      "cell_type": "code",
      "execution_count": null,
      "metadata": {
        "id": "LUHaULWjwdMt"
      },
      "outputs": [],
      "source": [
        "None_ = '此地無銀三百兩'"
      ]
    },
    {
      "cell_type": "code",
      "execution_count": null,
      "metadata": {
        "id": "X0dC3amYwdMu"
      },
      "outputs": [],
      "source": [
        "# 錯誤範例, 執行後會產生錯誤訊息\n",
        "# (注意: 執行後請重開記事本來還原 print() 功能)\n",
        "\n",
        "print = '哈哈 print 被我吃掉了, 打我啊~~~'\n",
        "print('測試')"
      ]
    }
  ],
  "metadata": {
    "kernelspec": {
      "display_name": "Python 3",
      "language": "python",
      "name": "python3"
    },
    "language_info": {
      "codemirror_mode": {
        "name": "ipython",
        "version": 3
      },
      "file_extension": ".py",
      "mimetype": "text/x-python",
      "name": "python",
      "nbconvert_exporter": "python",
      "pygments_lexer": "ipython3",
      "version": "3.8.3"
    },
    "colab": {
      "provenance": [],
      "include_colab_link": true
    }
  },
  "nbformat": 4,
  "nbformat_minor": 0
}